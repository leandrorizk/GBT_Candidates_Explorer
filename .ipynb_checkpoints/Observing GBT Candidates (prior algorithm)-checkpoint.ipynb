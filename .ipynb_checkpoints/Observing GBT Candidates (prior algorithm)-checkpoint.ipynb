{
 "cells": [
  {
   "cell_type": "code",
   "execution_count": 1,
   "metadata": {},
   "outputs": [],
   "source": [
    "import numpy as np\n",
    "import matplotlib.pylab as plt\n",
    "import blimpy as bl\n",
    "%matplotlib inline"
   ]
  },
  {
   "cell_type": "code",
   "execution_count": 2,
   "metadata": {},
   "outputs": [],
   "source": [
    "from typing import List, Tuple\n",
    "\n",
    "from astropy.time import Time\n",
    "from astropy import units as u"
   ]
  },
  {
   "cell_type": "code",
   "execution_count": 3,
   "metadata": {},
   "outputs": [],
   "source": [
    "MAX_IMSHOW_POINTS   = (8192, 4096)           # Max number of points in imshow plot\n",
    "\n",
    "\n",
    "def plot_waterfall(fil, f_start=None, f_stop=None, if_id=0, \n",
    "                   logged=True, cb=False, freq_label=False, MJD_time=False, \n",
    "                   left_line=None, right_line=None, **kwargs):\n",
    "    \"\"\" Plot waterfall of data\n",
    "    Args:\n",
    "        f_start (float): start frequency, in MHz\n",
    "        f_stop (float): stop frequency, in MHz\n",
    "        logged (bool): Plot in linear (False) or dB units (True),\n",
    "        cb (bool): for plotting the colorbar\n",
    "        kwargs: keyword args to be passed to matplotlib imshow()\n",
    "    \"\"\"\n",
    "\n",
    "\n",
    "    plt.rc('font', size=12)\n",
    "\n",
    "    plot_f, plot_data = fil.grab_data(f_start, f_stop, if_id)\n",
    "\n",
    "    # Make sure waterfall plot is under 4k*4k\n",
    "    dec_fac_x, dec_fac_y = 1, 1\n",
    "    if plot_data.shape[0] > MAX_IMSHOW_POINTS[0]:\n",
    "        dec_fac_x = plot_data.shape[0] / MAX_IMSHOW_POINTS[0]\n",
    "\n",
    "    if plot_data.shape[1] > MAX_IMSHOW_POINTS[1]:\n",
    "        dec_fac_y =  plot_data.shape[1] /  MAX_IMSHOW_POINTS[1]\n",
    "\n",
    "    #print(dec_fac_x)\n",
    "        \n",
    "    plot_data = bl.utils.rebin(plot_data, int(dec_fac_x), int(dec_fac_y))\n",
    "\n",
    "    if MJD_time:\n",
    "        extent=(plot_f[0], plot_f[-1], fil.timestamps[-1], fil.timestamps[0])\n",
    "    else:\n",
    "        extent=(plot_f[0], plot_f[-1], (fil.timestamps[-1]-fil.timestamps[0])*24.*60.*60, 0.0)\n",
    "\n",
    "    this_plot = plt.imshow(plot_data,\n",
    "        aspect='auto',\n",
    "        rasterized=True,\n",
    "        interpolation='nearest',\n",
    "        extent=extent,\n",
    "        cmap='hot',\n",
    "        **kwargs\n",
    "    )\n",
    "    if cb:\n",
    "        plt.colorbar()\n",
    "\n",
    "    if freq_label:\n",
    "        plt.xlabel(\"Frequency (Hz)\")\n",
    "    if MJD_time:\n",
    "        plt.ylabel(\"Time (MJD)\")\n",
    "    else:\n",
    "        plt.ylabel(\"Time (s)\")\n",
    "\n",
    "    return this_plot\n",
    "\n",
    "def make_waterfall_plots(filenames_list, target, f_start, f_stop, ion=False, correction_in=0, \n",
    "                         line1=None, line2=None, **kwargs):\n",
    "    ''' Makes waterfall plots per group of ON-OFF pairs (up to 6 plots.)\n",
    "    '''\n",
    "\n",
    "    plt.rc('font', size=12)\n",
    "\n",
    "    if ion:\n",
    "        plt.ion()\n",
    "\n",
    "    n_plots = len(filenames_list)\n",
    "    fig = plt.subplots(n_plots, sharex=True, sharey=True)\n",
    "#    fig = plt.subplots(n_plots, sharex=True, sharey=True, figsize=(10, 2*n_plots))\n",
    "#    fig = plt.subplots(1, 2, 1, sharex=True, sharey=True)\n",
    "\n",
    "    fil = bl.Waterfall(filenames_list[0], f_start=f_start, f_stop=f_stop)\n",
    "    \n",
    "    A1_avg = np.median(fil.data)\n",
    "    A1_max = fil.data.max()\n",
    "    A1_std = np.std(fil.data)\n",
    "\n",
    "    labeling = ['A','B','A','C','A','D']\n",
    "\n",
    "    delta_f = np.abs(f_start-f_stop)\n",
    "    mid_f = np.abs(f_start+f_stop)/2.\n",
    "    \n",
    "    #Adjust the incorrect header data\n",
    "    correction = mid_f - correction_in\n",
    "    mid_f_text = mid_f - correction\n",
    "\n",
    "    for i,filename in enumerate(filenames_list):\n",
    "        plt.subplot(n_plots, 2, (2 * i) + 1)\n",
    "\n",
    "        fil = bl.Waterfall(filename, f_start=f_start, f_stop=f_stop)\n",
    "\n",
    "        this_plot = plot_waterfall(fil,f_start=f_start, f_stop=f_stop,\n",
    "                                   vmin=A1_avg-A1_std*0,vmax=A1_avg+5.*A1_std,**kwargs)\n",
    "        \n",
    "        if line1 != None:\n",
    "            plt.axvline(x=line1, color = 'white', ls='--')\n",
    "        if line2 != None:\n",
    "            plt.axvline(x=line2, color = 'white', ls='--')\n",
    "\n",
    "        if i == 0:\n",
    "            plt.title('Waterfall')\n",
    "\n",
    "        if i < len(filenames_list)-1:\n",
    "            plt.xticks(np.arange(f_start, f_stop, delta_f/4.), ['','','',''])\n",
    "\n",
    "    #Some plot formatting.\n",
    "    ax = plt.gca()\n",
    "    #ax.invert_xaxis()\n",
    "    ax.get_xaxis().get_major_formatter().set_useOffset(False)\n",
    "    \n",
    "    if target == 'HIP7981':\n",
    "        #f_start -= 0.3\n",
    "        #f_stop  += 0.3\n",
    "        factor = 1e3\n",
    "        units = 'kHz'\n",
    "    else:\n",
    "        factor = 1e6\n",
    "        units = 'Hz'\n",
    "    \n",
    "    plt.xticks(np.arange(f_start, f_stop, delta_f/4.),\n",
    "               [round(loc_freq) for loc_freq in np.arange(\n",
    "                   (f_start-mid_f), (f_stop-mid_f), delta_f/4.)*factor])\n",
    "    plt.xlabel(\"Relative frequency in %s from %f MHz\"%(units, mid_f))\n",
    "    \n",
    "\n",
    "    #to plot color bar. for now.\n",
    "#    cax = fig[0].add_axes([0.9, 0.12, 0.03, 0.75])\n",
    "#    fig[0].colorbar(this_plot,cax=cax,label='Power (Arbitrary Units)')\n",
    "\n",
    "    # Fine-tune figure; make subplots close to each other and hide x ticks for\n",
    "    # all but bottom plot.\n",
    "#    plt.subplots_adjust(hspace=0,wspace=0)"
   ]
  },
  {
   "cell_type": "code",
   "execution_count": null,
   "metadata": {},
   "outputs": [],
   "source": []
  },
  {
   "cell_type": "code",
   "execution_count": null,
   "metadata": {},
   "outputs": [],
   "source": []
  },
  {
   "cell_type": "code",
   "execution_count": null,
   "metadata": {},
   "outputs": [],
   "source": []
  },
  {
   "cell_type": "code",
   "execution_count": 4,
   "metadata": {},
   "outputs": [],
   "source": [
    "TELESCOPE = 'GBT'\n",
    "OBS_TIME = '300s x 3'"
   ]
  },
  {
   "cell_type": "code",
   "execution_count": 5,
   "metadata": {},
   "outputs": [],
   "source": [
    "all_targets = []\n",
    "\n",
    "f = open('result_prior_filenames.txt', 'r')\n",
    "text = f.read().split()\n",
    "f.close()\n",
    "\n",
    "for word in text:\n",
    "    if 'directory' not in word and '.csv' in word:\n",
    "        all_targets.append(word[:-4])"
   ]
  },
  {
   "cell_type": "code",
   "execution_count": 6,
   "metadata": {},
   "outputs": [
    {
     "data": {
      "text/plain": [
       "['GJ905',\n",
       " 'HIP100859',\n",
       " 'HIP108036',\n",
       " 'HIP108092',\n",
       " 'HIP11029',\n",
       " 'HIP110750',\n",
       " 'HIP113718',\n",
       " 'HIP116106',\n",
       " 'HIP118162',\n",
       " 'HIP13402',\n",
       " 'HIP1368',\n",
       " 'HIP1444',\n",
       " 'HIP15638',\n",
       " 'HIP2',\n",
       " 'HIP21029',\n",
       " 'HIP21402',\n",
       " 'HIP21547',\n",
       " 'HIP22762',\n",
       " 'HIP27803',\n",
       " 'HIP32423',\n",
       " 'HIP33955',\n",
       " 'HIP34115',\n",
       " 'HIP36915',\n",
       " 'HIP4151',\n",
       " 'HIP43557',\n",
       " 'HIP44901',\n",
       " 'HIP46549',\n",
       " 'HIP50583',\n",
       " 'HIP53910',\n",
       " 'HIP54966',\n",
       " 'HIP63762',\n",
       " 'HIP64577',\n",
       " 'HIP65714',\n",
       " 'HIP77725',\n",
       " 'HIP82588',\n",
       " 'HIP8497',\n",
       " 'HIP86201',\n",
       " 'HIP91237',\n",
       " 'HIP97222',\n",
       " 'HIP99031']"
      ]
     },
     "execution_count": 6,
     "metadata": {},
     "output_type": "execute_result"
    }
   ],
   "source": [
    "all_targets"
   ]
  },
  {
   "cell_type": "code",
   "execution_count": null,
   "metadata": {},
   "outputs": [],
   "source": []
  },
  {
   "cell_type": "code",
   "execution_count": 7,
   "metadata": {},
   "outputs": [
    {
     "name": "stdout",
     "output_type": "stream",
     "text": [
      "40\n"
     ]
    }
   ],
   "source": [
    "print(len(all_targets))"
   ]
  },
  {
   "cell_type": "code",
   "execution_count": null,
   "metadata": {},
   "outputs": [],
   "source": []
  },
  {
   "cell_type": "code",
   "execution_count": null,
   "metadata": {},
   "outputs": [],
   "source": []
  },
  {
   "cell_type": "code",
   "execution_count": 8,
   "metadata": {},
   "outputs": [],
   "source": [
    "def get_cadence(target_name: str) -> List[str]:\n",
    "    \n",
    "    cadence = []\n",
    "\n",
    "    filename = 'result_prior/' + target_name + '_directory.csv'\n",
    "    f = open(filename, 'r')\n",
    "\n",
    "    lines = f.readlines()\n",
    "    f.close()\n",
    "\n",
    "    for line in lines[1:]:\n",
    "        info = line.strip().split(',')\n",
    "        h5file = info[1][12:]\n",
    "        cadence.append(h5file)\n",
    "    \n",
    "    return cadence"
   ]
  },
  {
   "cell_type": "code",
   "execution_count": 10,
   "metadata": {},
   "outputs": [],
   "source": [
    "def get_hits(target_name: str) -> List[List[float]]:\n",
    "    \n",
    "    hits = []\n",
    "\n",
    "    filename = 'result_prior/' + target_name + '.csv'\n",
    "    f = open(filename, 'r')\n",
    "\n",
    "    lines = f.readlines()\n",
    "    f.close()\n",
    "\n",
    "    for line in lines[1:]:\n",
    "        info = line.strip().split(',')\n",
    "        start = float(info[1])\n",
    "        stop = float(info[2])\n",
    "        fit = float(info[3])\n",
    "        #snr = float(info[4])\n",
    "        #hits.append([start, stop, fit, snr])\n",
    "        hits.append([start, stop, fit])\n",
    "\n",
    "    return hits"
   ]
  },
  {
   "cell_type": "code",
   "execution_count": 11,
   "metadata": {},
   "outputs": [],
   "source": [
    "class Target:\n",
    "    \n",
    "    \n",
    "    def __init__(self, target_name: str) -> None:\n",
    "        \n",
    "        self.name = target_name\n",
    "        self.cadence = get_cadence(target_name)\n",
    "        self.hits = get_hits(target_name)\n",
    "        self.num_hits = len(self.hits)\n",
    "    \n",
    "    def __str__(self) -> str:\n",
    "        \n",
    "        return 'Target {} with {} hits'.format(self.name, self.num_hits)\n",
    "    \n",
    "    \n",
    "    def get_cadence_type(self) -> str:\n",
    "        \n",
    "        if len(self.cadence) == 6:\n",
    "        \n",
    "            lst = []\n",
    "\n",
    "            for i in range(len(self.cadence)):\n",
    "                fb = bl.Waterfall(self.cadence[i], load_data=False)\n",
    "                source = fb.header['source_name']\n",
    "                lst.append(source)\n",
    "\n",
    "            if lst[0] == lst[2] == lst[4]:\n",
    "                \n",
    "                if lst[1] == lst[3] == lst[5] \\\n",
    "                and lst[0] != lst[1]:\n",
    "                    return 'ABABAB'\n",
    "                          \n",
    "                elif lst[1] != lst[3] and lst[1] != lst[5] and lst[3] != lst[5] \\\n",
    "                and lst[0] != lst[1] and lst[0] != lst[3] and lst[0] != lst[5]:\n",
    "                    return 'ABACAD'\n",
    "        \n",
    "        return 'other'\n",
    "    \n",
    "    \n",
    "    def get_RA(self) -> str:\n",
    "        \n",
    "        fb = bl.Waterfall(self.cadence[0], load_data=False)\n",
    "        RA = fb.header['src_raj']\n",
    "        \n",
    "        return str(RA)\n",
    "    \n",
    "    \n",
    "    def get_DEC(self) -> str:\n",
    "        \n",
    "        fb = bl.Waterfall(self.cadence[0], load_data=False)\n",
    "        DEC = fb.header['src_dej']\n",
    "        \n",
    "        return str(DEC)\n",
    "    \n",
    "    \n",
    "    def get_date_time(self, ISOT=True) -> str:\n",
    "        \n",
    "        fb = bl.Waterfall(self.cadence[0], load_data=False)\n",
    "        mjd = fb.header['tstart']\n",
    "        \n",
    "        if ISOT:\n",
    "            return Time(mjd, format='mjd').isot\n",
    "        \n",
    "        return str(mjd)\n",
    "    \n",
    "    \n",
    "    def get_min_freq(self) -> str:\n",
    "        \n",
    "        fb = bl.Waterfall(self.cadence[0], load_data=False)\n",
    "        \n",
    "        if fb.header['foff'] < 0:\n",
    "            min_freq = fb.container.f_start - fb.header['foff']\n",
    "        else:\n",
    "            min_freq = fb.container.f_start\n",
    "        \n",
    "        return str(min_freq) + ' MHz'\n",
    "    \n",
    "\n",
    "    def get_max_freq(self) -> str:\n",
    "        \n",
    "        fb = bl.Waterfall(self.cadence[0], load_data=False)\n",
    "        \n",
    "        if fb.header['foff'] < 0:\n",
    "            max_freq = fb.container.f_stop\n",
    "\n",
    "        else:\n",
    "            max_freq = fb.container.f_stop - fb.header['foff']\n",
    "        \n",
    "        return str(max_freq) + ' MHz'"
   ]
  },
  {
   "cell_type": "code",
   "execution_count": 12,
   "metadata": {},
   "outputs": [],
   "source": [
    "COLUMN = 52"
   ]
  },
  {
   "cell_type": "code",
   "execution_count": 13,
   "metadata": {},
   "outputs": [],
   "source": [
    "class Hit:\n",
    "    \n",
    "    \n",
    "    def __init__(self, target: Target, index: int) -> None:\n",
    "        \n",
    "        self.target = target\n",
    "        self.target_name = target.name\n",
    "        self.number = index + 1\n",
    "        self.start_freq = target.hits[index][0]\n",
    "        self.end_freq = target.hits[index][1]\n",
    "        self.fit = target.hits[index][2]\n",
    "        #self.SNR = target.hits[index][3]\n",
    "    \n",
    "    def __str__(self) -> str:\n",
    "        \n",
    "        return 'Hit {} of {} for target {}'.format(self.number, self.target.num_hits, self.target_name)\n",
    "    \n",
    "    \n",
    "    def make_plot(self):\n",
    "        \n",
    "        plt.rc('font', size=10)\n",
    "        \n",
    "        mid_freqs = []\n",
    "        fits = []\n",
    "        \n",
    "        for i in range(self.target.num_hits):\n",
    "\n",
    "            mid_freq = (self.target.hits[i][0] + self.target.hits[i][1]) / 2\n",
    "            mid_freqs.append(mid_freq)\n",
    "            \n",
    "            fit = self.target.hits[i][2]\n",
    "            fits.append(fit)\n",
    "\n",
    "        #plt.scatter(mid_freqs, fits, color='gray')\n",
    "        plt.scatter(mid_freqs, fits, color='gray', marker='.')\n",
    "        \n",
    "        mid = (self.start_freq + self.end_freq) / 2\n",
    "        plt.plot(mid, self.fit, marker='o', color='red', ms=8)\n",
    "        \n",
    "        plot_start = float(self.target.get_min_freq()[:-4])\n",
    "        plot_end = float(self.target.get_max_freq()[:-4])\n",
    "        plt.xlim(plot_start, plot_end)\n",
    "        \n",
    "        plt.grid()\n",
    "        plt.xlabel('Frequency (MHz)')\n",
    "        plt.ylabel('Fit')\n",
    "        plt.title('Position of hit in the frequency band')\n",
    "        \n",
    "\n",
    "    def print_info(self):\n",
    "        \n",
    "        s1 = 'Target name: ' + self.target_name\n",
    "        s2 = 'Number of hits for this target: ' + str(self.target.num_hits)\n",
    "        tab = ' ' * (COLUMN - len(s1))\n",
    "        print(s1, tab, s2)\n",
    "        \n",
    "        s1 = 'Right ascension: ' + self.target.get_RA()\n",
    "        s2 = 'Average number of hits per target: ' + str(avg_num_hits)\n",
    "        tab = ' ' * (COLUMN - len(s1))\n",
    "        print(s1, tab, s2)\n",
    "        \n",
    "        s1 = 'Declination: ' + self.target.get_DEC()\n",
    "        print(s1)\n",
    "\n",
    "        s1 = 'Telescope: ' + TELESCOPE\n",
    "        print(s1)\n",
    "\n",
    "        s1 = 'Observation start (MJD): ' + self.target.get_date_time(ISOT=False)\n",
    "        s2 = '\\t\\tHit #' + str(self.number) + ' of ' + str(self.target.num_hits)\n",
    "        tab = ' ' * (COLUMN - len(s1))\n",
    "        print(s1, tab, s2)\n",
    "\n",
    "        s1 = 'Observation start (ISOT): ' + self.target.get_date_time()\n",
    "        s2 = 'Start frequency: ' + str(self.start_freq) + ' MHz'\n",
    "        tab = ' ' * (COLUMN - len(s1))\n",
    "        print(s1, tab, s2)\n",
    "        \n",
    "        s1 = 'Observing time: ' + OBS_TIME\n",
    "        s2 = 'End frequency: ' + str(self.end_freq) + ' MHz'\n",
    "        tab = ' ' * (COLUMN - len(s1))\n",
    "        print(s1, tab, s2)\n",
    "        \n",
    "        s1 = 'Cadence: ' + self.target.get_cadence_type()\n",
    "        s2 = 'Event bandwidth: ' + str((self.end_freq - self.start_freq) * 1e6) + ' Hz'\n",
    "        tab = ' ' * (COLUMN - len(s1))\n",
    "        print(s1, tab, s2)\n",
    "\n",
    "        s1 = 'Min frequency: ' + self.target.get_min_freq()\n",
    "#        s2 = 'Fit: ' + str(self.fit * 100) + '%'\n",
    "        s2 = 'Probability: ' + str(self.fit * 100) + '%'\n",
    "        tab = ' ' * (COLUMN - len(s1))\n",
    "        print(s1, tab, s2)\n",
    "\n",
    "        s1 = 'Max frequency: ' + self.target.get_max_freq()\n",
    "        #s2 = 'SNR: ' + str(self.SNR)\n",
    "        #tab = ' ' * (COLUMN - len(s1))\n",
    "        #print(s1, tab, s2)\n",
    "        print(s1)"
   ]
  },
  {
   "cell_type": "code",
   "execution_count": null,
   "metadata": {},
   "outputs": [],
   "source": []
  },
  {
   "cell_type": "code",
   "execution_count": 14,
   "metadata": {},
   "outputs": [],
   "source": [
    "num_hits_per_target = []\n",
    "\n",
    "for target_name in all_targets:\n",
    "    n = Target(target_name).num_hits\n",
    "    num_hits_per_target.append(n)\n",
    "\n",
    "avg_num_hits = np.sum(num_hits_per_target) / len(all_targets)"
   ]
  },
  {
   "cell_type": "code",
   "execution_count": 15,
   "metadata": {},
   "outputs": [
    {
     "data": {
      "text/plain": [
       "626"
      ]
     },
     "execution_count": 15,
     "metadata": {},
     "output_type": "execute_result"
    }
   ],
   "source": [
    "np.max(num_hits_per_target)"
   ]
  },
  {
   "cell_type": "code",
   "execution_count": 16,
   "metadata": {},
   "outputs": [],
   "source": [
    "def plot_highlighted_hist(target: Target):\n",
    "\n",
    "    plt.rc('font', size=10)\n",
    "    \n",
    "    binning = np.arange(0, 700, 20)\n",
    "\n",
    "    array, bins, patches = plt.hist(num_hits_per_target, bins=binning, color='gray')\n",
    "\n",
    "    n = target.num_hits // 20\n",
    "    patches[n].set_fc('red')\n",
    "\n",
    "    plt.grid()\n",
    "    plt.xlabel('Number of hits')\n",
    "    plt.ylabel('Number of targets')\n",
    "    plt.title('Hits per target')"
   ]
  },
  {
   "cell_type": "code",
   "execution_count": null,
   "metadata": {},
   "outputs": [],
   "source": []
  },
  {
   "cell_type": "code",
   "execution_count": null,
   "metadata": {},
   "outputs": [],
   "source": []
  },
  {
   "cell_type": "code",
   "execution_count": 31,
   "metadata": {},
   "outputs": [],
   "source": [
    "# To pick a target, redefine i or directly define target as the corresponding string:\n",
    "i = 39\n",
    "target = Target(all_targets[i])"
   ]
  },
  {
   "cell_type": "code",
   "execution_count": 32,
   "metadata": {},
   "outputs": [
    {
     "data": {
      "text/plain": [
       "11"
      ]
     },
     "execution_count": 32,
     "metadata": {},
     "output_type": "execute_result"
    }
   ],
   "source": [
    "target.num_hits"
   ]
  },
  {
   "cell_type": "code",
   "execution_count": 35,
   "metadata": {},
   "outputs": [],
   "source": [
    "# To pick a hit, redefine j\n",
    "j = 1\n",
    "hit = Hit(target, j)"
   ]
  },
  {
   "cell_type": "code",
   "execution_count": null,
   "metadata": {},
   "outputs": [],
   "source": []
  },
  {
   "cell_type": "code",
   "execution_count": null,
   "metadata": {},
   "outputs": [],
   "source": []
  },
  {
   "cell_type": "code",
   "execution_count": null,
   "metadata": {},
   "outputs": [],
   "source": []
  },
  {
   "cell_type": "code",
   "execution_count": 36,
   "metadata": {},
   "outputs": [
    {
     "name": "stdout",
     "output_type": "stream",
     "text": [
      "\t\t\t\t\tCandidate information\n",
      "\n",
      "Target name: HIP99031                                 Number of hits for this target: 11\n",
      "Right ascension: 20h06m21.401s                        Average number of hits per target: 66.95\n",
      "Declination: 35d58m13.011s\n",
      "Telescope: GBT\n",
      "Observation start (MJD): 57458.7193287037             \t\tHit #2 of 11\n",
      "Observation start (ISOT): 2016-03-11T17:15:50.000     Start frequency: 1419.9997870725965 MHz\n",
      "Observing time: 300s x 3                              End frequency: 1420.0005129614717 MHz\n",
      "Cadence: ABABAB                                       Event bandwidth: 725.8888751948689 Hz\n",
      "Min frequency: 1126.4648465855034 MHz                 Probability: 78.43928337097168%\n",
      "Max frequency: 1876.46484375 MHz\n"
     ]
    },
    {
     "data": {
      "image/png": "[encoded data removed]",
      "text/plain": [
       "<Figure size 1080x864 with 8 Axes>"
      ]
     },
     "metadata": {
      "needs_background": "light"
     },
     "output_type": "display_data"
    }
   ],
   "source": [
    "print('\\t\\t\\t\\t\\tCandidate information\\n')\n",
    "\n",
    "hit.print_info()\n",
    "\n",
    "\n",
    "diff = hit.end_freq - hit.start_freq\n",
    "\n",
    "start = hit.start_freq - diff\n",
    "stop = hit.end_freq + diff\n",
    "mid = (start + stop) / 2\n",
    "\n",
    "make_waterfall_plots(filenames_list=target.cadence, target=target.name, \n",
    "                     f_start=start, f_stop=stop, correction_in=mid, \n",
    "                     line1=hit.start_freq, line2=hit.end_freq)\n",
    "\n",
    "\n",
    "plt.subplot(2, 2, 2)\n",
    "plot_highlighted_hist(target)\n",
    "\n",
    "plt.subplot(2, 2, 4)\n",
    "hit.make_plot()\n",
    "\n",
    "plt.gcf().set_size_inches(15, 12)    \n",
    "plt.show()"
   ]
  },
  {
   "cell_type": "code",
   "execution_count": null,
   "metadata": {},
   "outputs": [],
   "source": []
  },
  {
   "cell_type": "code",
   "execution_count": null,
   "metadata": {},
   "outputs": [],
   "source": []
  },
  {
   "cell_type": "code",
   "execution_count": null,
   "metadata": {},
   "outputs": [],
   "source": []
  },
  {
   "cell_type": "code",
   "execution_count": null,
   "metadata": {},
   "outputs": [],
   "source": []
  },
  {
   "cell_type": "code",
   "execution_count": null,
   "metadata": {},
   "outputs": [],
   "source": []
  },
  {
   "cell_type": "code",
   "execution_count": null,
   "metadata": {},
   "outputs": [],
   "source": []
  },
  {
   "cell_type": "code",
   "execution_count": null,
   "metadata": {},
   "outputs": [],
   "source": []
  },
  {
   "cell_type": "code",
   "execution_count": null,
   "metadata": {},
   "outputs": [],
   "source": []
  },
  {
   "cell_type": "code",
   "execution_count": null,
   "metadata": {},
   "outputs": [],
   "source": []
  },
  {
   "cell_type": "code",
   "execution_count": null,
   "metadata": {},
   "outputs": [],
   "source": []
  },
  {
   "cell_type": "code",
   "execution_count": null,
   "metadata": {},
   "outputs": [],
   "source": []
  },
  {
   "cell_type": "code",
   "execution_count": null,
   "metadata": {},
   "outputs": [],
   "source": []
  },
  {
   "cell_type": "code",
   "execution_count": null,
   "metadata": {},
   "outputs": [],
   "source": []
  },
  {
   "cell_type": "code",
   "execution_count": null,
   "metadata": {},
   "outputs": [],
   "source": []
  },
  {
   "cell_type": "code",
   "execution_count": null,
   "metadata": {},
   "outputs": [],
   "source": []
  },
  {
   "cell_type": "code",
   "execution_count": null,
   "metadata": {},
   "outputs": [],
   "source": []
  },
  {
   "cell_type": "code",
   "execution_count": null,
   "metadata": {},
   "outputs": [],
   "source": []
  },
  {
   "cell_type": "code",
   "execution_count": null,
   "metadata": {},
   "outputs": [],
   "source": []
  },
  {
   "cell_type": "code",
   "execution_count": null,
   "metadata": {},
   "outputs": [],
   "source": []
  },
  {
   "cell_type": "code",
   "execution_count": null,
   "metadata": {},
   "outputs": [],
   "source": []
  },
  {
   "cell_type": "code",
   "execution_count": null,
   "metadata": {},
   "outputs": [],
   "source": []
  },
  {
   "cell_type": "code",
   "execution_count": null,
   "metadata": {},
   "outputs": [],
   "source": []
  },
  {
   "cell_type": "code",
   "execution_count": null,
   "metadata": {},
   "outputs": [],
   "source": []
  },
  {
   "cell_type": "code",
   "execution_count": null,
   "metadata": {},
   "outputs": [],
   "source": []
  },
  {
   "cell_type": "code",
   "execution_count": null,
   "metadata": {},
   "outputs": [],
   "source": []
  },
  {
   "cell_type": "code",
   "execution_count": null,
   "metadata": {},
   "outputs": [],
   "source": []
  },
  {
   "cell_type": "code",
   "execution_count": null,
   "metadata": {},
   "outputs": [],
   "source": []
  },
  {
   "cell_type": "code",
   "execution_count": null,
   "metadata": {},
   "outputs": [],
   "source": []
  },
  {
   "cell_type": "code",
   "execution_count": null,
   "metadata": {},
   "outputs": [],
   "source": []
  },
  {
   "cell_type": "code",
   "execution_count": null,
   "metadata": {},
   "outputs": [],
   "source": []
  },
  {
   "cell_type": "code",
   "execution_count": null,
   "metadata": {},
   "outputs": [],
   "source": []
  },
  {
   "cell_type": "code",
   "execution_count": null,
   "metadata": {},
   "outputs": [],
   "source": []
  },
  {
   "cell_type": "code",
   "execution_count": null,
   "metadata": {},
   "outputs": [],
   "source": []
  },
  {
   "cell_type": "code",
   "execution_count": null,
   "metadata": {},
   "outputs": [],
   "source": []
  },
  {
   "cell_type": "code",
   "execution_count": null,
   "metadata": {},
   "outputs": [],
   "source": []
  },
  {
   "cell_type": "code",
   "execution_count": null,
   "metadata": {},
   "outputs": [],
   "source": [
    "print('\\t\\t\\t\\t\\tCandidate information\\n')\n",
    "\n",
    "hit.print_info()\n",
    "\n",
    "\n",
    "diff = hit.end_freq - hit.start_freq\n",
    "\n",
    "start = hit.start_freq - diff\n",
    "stop = hit.end_freq + diff\n",
    "mid = (start + stop) / 2\n",
    "\n",
    "make_waterfall_plots(filenames_list=target.cadence, target=target.name, \n",
    "                     f_start=start, f_stop=stop, correction_in=mid)\n",
    "\n",
    "\n",
    "plt.subplot(2, 2, 2)\n",
    "plot_highlighted_hist(target)\n",
    "\n",
    "plt.subplot(2, 2, 4)\n",
    "hit.make_plot()\n",
    "\n",
    "plt.gcf().set_size_inches(15, 10)\n",
    "plt.show()"
   ]
  },
  {
   "cell_type": "code",
   "execution_count": null,
   "metadata": {},
   "outputs": [],
   "source": []
  },
  {
   "cell_type": "code",
   "execution_count": null,
   "metadata": {},
   "outputs": [],
   "source": []
  },
  {
   "cell_type": "code",
   "execution_count": null,
   "metadata": {},
   "outputs": [],
   "source": [
    "print('\\t\\t\\t\\t\\tCandidate information\\n')\n",
    "\n",
    "hit.print_info()\n",
    "\n",
    "\n",
    "diff = hit.end_freq - hit.start_freq\n",
    "\n",
    "start = hit.start_freq - diff\n",
    "stop = hit.end_freq + diff\n",
    "\n",
    "make_waterfall_plots(filenames_list=target.cadence, target=target.name, f_start=start, f_stop=stop)\n",
    "\n",
    "\n",
    "plt.subplot(2, 2, 2)\n",
    "plot_highlighted_hist(target)\n",
    "\n",
    "plt.subplot(2, 2, 4)\n",
    "hit.make_plot()\n",
    "\n",
    "plt.gcf().set_size_inches(15, 10)\n",
    "plt.show()"
   ]
  },
  {
   "cell_type": "code",
   "execution_count": null,
   "metadata": {},
   "outputs": [],
   "source": []
  },
  {
   "cell_type": "code",
   "execution_count": null,
   "metadata": {},
   "outputs": [],
   "source": []
  },
  {
   "cell_type": "code",
   "execution_count": null,
   "metadata": {},
   "outputs": [],
   "source": []
  },
  {
   "cell_type": "code",
   "execution_count": null,
   "metadata": {},
   "outputs": [],
   "source": [
    "print('\\t\\t\\t\\t\\tCandidate information\\n')\n",
    "\n",
    "hit.print_info()\n",
    "\n",
    "plt.subplot(1, 2, 1)\n",
    "plot_highlighted_hist(target)\n",
    "\n",
    "plt.subplot(2, 2, 2)\n",
    "plot_highlighted_hist(target)\n",
    "\n",
    "plt.subplot(2, 2, 4)\n",
    "hit.make_plot()\n",
    "\n",
    "plt.gcf().set_size_inches(15, 10)\n",
    "plt.show()"
   ]
  },
  {
   "cell_type": "code",
   "execution_count": null,
   "metadata": {},
   "outputs": [],
   "source": []
  },
  {
   "cell_type": "code",
   "execution_count": null,
   "metadata": {},
   "outputs": [],
   "source": []
  },
  {
   "cell_type": "code",
   "execution_count": null,
   "metadata": {},
   "outputs": [],
   "source": []
  },
  {
   "cell_type": "code",
   "execution_count": null,
   "metadata": {},
   "outputs": [],
   "source": []
  },
  {
   "cell_type": "code",
   "execution_count": null,
   "metadata": {},
   "outputs": [],
   "source": []
  },
  {
   "cell_type": "code",
   "execution_count": null,
   "metadata": {},
   "outputs": [],
   "source": [
    "diff = hit.end_freq - hit.start_freq\n",
    "\n",
    "start = hit.start_freq - diff\n",
    "stop = hit.end_freq + diff\n",
    "\n",
    "make_waterfall_plots(filenames_list=target.cadence, target=target.name, f_start=start, f_stop=stop)\n",
    "\n",
    "plt.gcf().set_size_inches(15, 10)\n",
    "plt.show()"
   ]
  },
  {
   "cell_type": "code",
   "execution_count": null,
   "metadata": {},
   "outputs": [],
   "source": []
  },
  {
   "cell_type": "code",
   "execution_count": null,
   "metadata": {},
   "outputs": [],
   "source": []
  },
  {
   "cell_type": "code",
   "execution_count": null,
   "metadata": {},
   "outputs": [],
   "source": []
  },
  {
   "cell_type": "code",
   "execution_count": null,
   "metadata": {},
   "outputs": [],
   "source": []
  },
  {
   "cell_type": "code",
   "execution_count": null,
   "metadata": {},
   "outputs": [],
   "source": []
  },
  {
   "cell_type": "code",
   "execution_count": null,
   "metadata": {},
   "outputs": [],
   "source": []
  },
  {
   "cell_type": "code",
   "execution_count": null,
   "metadata": {},
   "outputs": [],
   "source": []
  },
  {
   "cell_type": "code",
   "execution_count": null,
   "metadata": {},
   "outputs": [],
   "source": [
    "plt.subplot(2, 2, 1)\n",
    "hit.print_info()\n",
    "\n",
    "plt.subplot(2, 2, 2)\n",
    "plot_highlighted_hist(target)\n",
    "\n",
    "plt.subplot(2, 2, 4)\n",
    "hit.make_plot()\n",
    "\n",
    "plt.gcf().set_size_inches(15, 10)\n",
    "plt.show()\n",
    "\n",
    "\n",
    "start = hit.start_freq\n",
    "stop = hit.end_freq\n",
    "mid = (start + stop) / 2\n",
    "\n",
    "make_waterfall_plots(filenames_list=target.cadence, target=target.name, \n",
    "                     f_start=start, f_stop=stop, correction_in=mid)"
   ]
  },
  {
   "cell_type": "code",
   "execution_count": null,
   "metadata": {},
   "outputs": [],
   "source": []
  },
  {
   "cell_type": "code",
   "execution_count": null,
   "metadata": {},
   "outputs": [],
   "source": []
  },
  {
   "cell_type": "code",
   "execution_count": null,
   "metadata": {},
   "outputs": [],
   "source": []
  },
  {
   "cell_type": "code",
   "execution_count": null,
   "metadata": {},
   "outputs": [],
   "source": [
    "bl.Waterfall(target.cadence[0], f_start=hit.start_freq, f_stop=hit.end_freq)"
   ]
  },
  {
   "cell_type": "code",
   "execution_count": null,
   "metadata": {},
   "outputs": [],
   "source": []
  },
  {
   "cell_type": "code",
   "execution_count": null,
   "metadata": {},
   "outputs": [],
   "source": [
    "help(bl.Waterfall)"
   ]
  },
  {
   "cell_type": "code",
   "execution_count": null,
   "metadata": {},
   "outputs": [],
   "source": []
  },
  {
   "cell_type": "code",
   "execution_count": null,
   "metadata": {},
   "outputs": [],
   "source": []
  },
  {
   "cell_type": "code",
   "execution_count": null,
   "metadata": {},
   "outputs": [],
   "source": []
  },
  {
   "cell_type": "markdown",
   "metadata": {},
   "source": [
    "À faire:\n",
    "\n",
    "- Remove space and ticks\n",
    "- x-axis label\n",
    "- Add two lines that delimit event\n",
    "- Add and adjust colorbar"
   ]
  },
  {
   "cell_type": "code",
   "execution_count": null,
   "metadata": {},
   "outputs": [],
   "source": []
  },
  {
   "cell_type": "code",
   "execution_count": null,
   "metadata": {},
   "outputs": [],
   "source": []
  },
  {
   "cell_type": "code",
   "execution_count": null,
   "metadata": {},
   "outputs": [],
   "source": []
  },
  {
   "cell_type": "code",
   "execution_count": null,
   "metadata": {},
   "outputs": [],
   "source": []
  }
 ],
 "metadata": {
  "kernelspec": {
   "display_name": "Python 3",
   "language": "python",
   "name": "python3"
  },
  "language_info": {
   "codemirror_mode": {
    "name": "ipython",
    "version": 3
   },
   "file_extension": ".py",
   "mimetype": "text/x-python",
   "name": "python",
   "nbconvert_exporter": "python",
   "pygments_lexer": "ipython3",
   "version": "3.7.6"
  }
 },
 "nbformat": 4,
 "nbformat_minor": 4
}
